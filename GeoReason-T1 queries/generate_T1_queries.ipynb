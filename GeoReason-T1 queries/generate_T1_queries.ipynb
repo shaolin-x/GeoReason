{
 "cells": [
  {
   "cell_type": "code",
   "execution_count": null,
   "id": "fb4f32e1",
   "metadata": {
    "vscode": {
     "languageId": "plaintext"
    }
   },
   "outputs": [],
   "source": [
    "import pandas as pd\n",
    "import geopandas as gpd\n",
    "\n",
    "# Read the CSV using pandas\n",
    "df = pd.read_csv('./dataset/parks_coordinates.csv')\n",
    "\n",
    "# Convert 'latitude' and 'longitude' columns to numeric, forcing errors to NaN if any bad data\n",
    "df['latitude'] = pd.to_numeric(df['latitude'], errors='coerce')\n",
    "df['longitude'] = pd.to_numeric(df['longitude'], errors='coerce')\n",
    "\n",
    "# Drop rows with missing or invalid coordinates, if needed\n",
    "df = df.dropna(subset=['latitude', 'longitude'])\n",
    "\n",
    "# Convert to GeoDataFrame\n",
    "gdf = gpd.GeoDataFrame(\n",
    "    df,\n",
    "    geometry=gpd.points_from_xy(df['longitude'], df['latitude']),\n",
    "    crs='EPSG:4326'  # Assuming coordinates are in WGS84\n",
    ")\n",
    "print(gdf)\n"
   ]
  }
 ],
 "metadata": {
  "language_info": {
   "name": "python"
  }
 },
 "nbformat": 4,
 "nbformat_minor": 5
}
