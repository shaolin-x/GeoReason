{
 "cells": [
  {
   "cell_type": "code",
   "execution_count": null,
   "id": "fb4f32e1",
   "metadata": {},
   "outputs": [
    {
     "name": "stdout",
     "output_type": "stream",
     "text": [
      "                                name  latitude  longitude  \\\n",
      "0               Acadia National Park     44.35     -68.21   \n",
      "1    National Park of American Samoa    -14.25    -170.68   \n",
      "2               Arches National Park     38.68    -109.57   \n",
      "3             Badlands National Park     43.75    -102.50   \n",
      "4             Big Bend National Park     29.25    -103.25   \n",
      "..                               ...       ...        ...   \n",
      "58           Wind Cave National Park     43.57    -103.48   \n",
      "59  Wrangell–St. Elias National Park     61.00    -142.00   \n",
      "60         Yellowstone National Park     44.60    -110.50   \n",
      "61            Yosemite National Park     37.83    -119.50   \n",
      "62                Zion National Park     37.30    -113.05   \n",
      "\n",
      "                     states                geometry  \n",
      "0                     Maine    POINT (-68.21 44.35)  \n",
      "1            American Samoa  POINT (-170.68 -14.25)  \n",
      "2                      Utah   POINT (-109.57 38.68)  \n",
      "3              South Dakota    POINT (-102.5 43.75)  \n",
      "4                     Texas   POINT (-103.25 29.25)  \n",
      "..                      ...                     ...  \n",
      "58             South Dakota   POINT (-103.48 43.57)  \n",
      "59                   Alaska         POINT (-142 61)  \n",
      "60  Wyoming, Montana, Idaho     POINT (-110.5 44.6)  \n",
      "61               California    POINT (-119.5 37.83)  \n",
      "62                     Utah    POINT (-113.05 37.3)  \n",
      "\n",
      "[63 rows x 5 columns]\n"
     ]
    }
   ],
   "source": [
    "import pandas as pd\n",
    "import geopandas as gpd\n",
    "\n",
    "# Read the CSV using pandas\n",
    "df = pd.read_csv('../dataset/parks_coordinates.csv')\n",
    "\n",
    "# Convert 'latitude' and 'longitude' columns to numeric, forcing errors to NaN if any bad data\n",
    "df['latitude'] = pd.to_numeric(df['latitude'], errors='coerce')\n",
    "df['longitude'] = pd.to_numeric(df['longitude'], errors='coerce')\n",
    "\n",
    "# Drop rows with missing or invalid coordinates, if needed\n",
    "df = df.dropna(subset=['latitude', 'longitude'])\n",
    "\n",
    "# Convert to GeoDataFrame\n",
    "gdf = gpd.GeoDataFrame(\n",
    "    df,\n",
    "    geometry=gpd.points_from_xy(df['longitude'], df['latitude']),\n",
    "    crs='EPSG:4326'  # Assuming coordinates are in WGS84\n",
    ")\n",
    "print()\n"
   ]
  },
  {
   "cell_type": "code",
   "execution_count": null,
   "id": "365df850",
   "metadata": {},
   "outputs": [],
   "source": []
  }
 ],
 "metadata": {
  "kernelspec": {
   "display_name": "spatial-benchmark",
   "language": "python",
   "name": "python3"
  },
  "language_info": {
   "codemirror_mode": {
    "name": "ipython",
    "version": 3
   },
   "file_extension": ".py",
   "mimetype": "text/x-python",
   "name": "python",
   "nbconvert_exporter": "python",
   "pygments_lexer": "ipython3",
   "version": "3.11.11"
  }
 },
 "nbformat": 4,
 "nbformat_minor": 5
}
