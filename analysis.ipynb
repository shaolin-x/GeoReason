{
 "cells": [
  {
   "cell_type": "code",
   "execution_count": 17,
   "id": "9d5ecd5c",
   "metadata": {},
   "outputs": [
    {
     "name": "stdout",
     "output_type": "stream",
     "text": [
      "                              name                geometry          states\n",
      "0             Acadia National Park    POINT (-68.21 44.35)           Maine\n",
      "1  National Park of American Samoa  POINT (-170.68 -14.25)  American Samoa\n",
      "2             Arches National Park   POINT (-109.57 38.68)            Utah\n",
      "3           Badlands National Park    POINT (-102.5 43.75)    South Dakota\n",
      "4           Big Bend National Park   POINT (-103.25 29.25)           Texas\n"
     ]
    }
   ],
   "source": [
    "# Load park coordinates\n",
    "\n",
    "import pandas as pd\n",
    "import geopandas as gpd\n",
    "\n",
    "# Read the CSV using pandas\n",
    "df = pd.read_csv('./dataset/parks_coordinates.csv')\n",
    "\n",
    "# Convert 'latitude' and 'longitude' columns to numeric, forcing errors to NaN if any bad data\n",
    "df['latitude'] = pd.to_numeric(df['latitude'], errors='coerce')\n",
    "df['longitude'] = pd.to_numeric(df['longitude'], errors='coerce')\n",
    "\n",
    "# Drop rows with missing or invalid coordinates, if needed\n",
    "df = df.dropna(subset=['latitude', 'longitude'])\n",
    "\n",
    "# Convert to GeoDataFrame\n",
    "parks_df = gpd.GeoDataFrame(\n",
    "    df,\n",
    "    geometry=gpd.points_from_xy(df['longitude'], df['latitude']),\n",
    "    crs='EPSG:4326'  # Assuming coordinates are in WGS84\n",
    ")\n",
    "print(parks_df[['name', 'geometry','states']].head())\n"
   ]
  },
  {
   "cell_type": "code",
   "execution_count": 18,
   "id": "57321f96",
   "metadata": {},
   "outputs": [
    {
     "name": "stdout",
     "output_type": "stream",
     "text": [
      "           name                                           geometry\n",
      "0     Minnesota  POLYGON ((-89.95766 47.28691, -90.13175 47.292...\n",
      "1       Montana  POLYGON ((-116.04823 49.00037, -113.0595 49.00...\n",
      "2  North Dakota  POLYGON ((-97.22894 49.00089, -97.21414 48.902...\n",
      "3        Hawaii  MULTIPOLYGON (((-155.93665 19.05939, -155.9080...\n",
      "4         Idaho  POLYGON ((-116.04823 49.00037, -115.9678 47.95...\n",
      "       zone                                           geometry\n",
      "1   Eastern  MULTIPOLYGON (((-90.3253 46.71203, -89.98381 4...\n",
      "2   Central  POLYGON ((-90.41012 46.57909, -90.40951 46.580...\n",
      "3  Mountain  MULTIPOLYGON (((-114.36194 49.00112, -114.3484...\n",
      "4   Pacific  MULTIPOLYGON (((-122.17237 49.00243, -122.1643...\n",
      "5    Alaska  MULTIPOLYGON (((-155.75907 71.28518, -155.7562...\n"
     ]
    }
   ],
   "source": [
    "# Load states and time zone data\n",
    "import geopandas as gpd\n",
    "import pandas as pd\n",
    "import random\n",
    "\n",
    "# https://geodata.bts.gov/datasets/usdot%3A%3Atime-zones/about\n",
    "# https://www.census.gov/geographies/mapping-files/time-series/geo/cartographic-boundary.html\n",
    "\n",
    "# Paths to shapefiles\n",
    "STATES_PATH = './dataset/ne_110m_admin_1_states_provinces/ne_110m_admin_1_states_provinces.shp'\n",
    "TIMEZONES_PATH = './dataset/NTAD_Time_Zones_467650596632424595/Time_Zones.shp'\n",
    "\n",
    "# Exclusions\n",
    "EXCLUDED_ZONES = {\"Chamorro\", \"Samoa\", \"Atlantic\"}\n",
    "EXCLUDED_STATES = {\n",
    "    \"American Samoa\", \"Guam\", \"Commonwealth of the Northern Mariana Islands\",\n",
    "    \"Puerto Rico\", \"United States Virgin Islands\"}\n",
    "\n",
    "# Load data\n",
    "states = gpd.read_file(STATES_PATH)\n",
    "time_zones = gpd.read_file(TIMEZONES_PATH)\n",
    "\n",
    "# Ensure both layers use the same CRS\n",
    "states = states.to_crs(time_zones.crs)\n",
    "\n",
    "# Apply exclusions\n",
    "time_zones_df = time_zones[~time_zones[\"zone\"].isin(EXCLUDED_ZONES)]\n",
    "states_df = states[~states[\"name\"].isin(EXCLUDED_STATES)]\n",
    "\n",
    "print(states_df[['name', 'geometry']].head())\n",
    "print(time_zones_df[['zone', 'geometry']].head())"
   ]
  },
  {
   "cell_type": "code",
   "execution_count": 6,
   "id": "efde4db5",
   "metadata": {},
   "outputs": [],
   "source": [
    "# input: staet row and timezone row, dirction('state' or 'zone', meaning finding relation from state to timezone or vice versa)\n",
    "# output: list of relations between state and timezone\n",
    "\n",
    "def calc_topology(state, timezone, direction):\n",
    "    upper = 0.98\n",
    "    lower = 0.02\n",
    "    geom_state = state.geometry\n",
    "    geom_other = timezone.geometry\n",
    "    inter = geom_state.intersection(geom_other)\n",
    "    ia = inter.area\n",
    "    area_state = geom_state.area\n",
    "    upper_area = upper * area_state\n",
    "    lower_area = lower * area_state\n",
    "\n",
    "    rels = []\n",
    "    if ia == 0:\n",
    "        if state['name'] == \"Utah\" and timezone.zone == \"Pacific\" :\n",
    "            rels.append(\"touch\")\n",
    "        elif state['name'] == \"Montana\" and timezone.zone == \"Central\":\n",
    "            rels.append(\"touch\")\n",
    "        else: rels.append(\"disjoint\")\n",
    "    if 0 < ia <= lower_area:\n",
    "        rels.append(\"touch\")\n",
    "    if lower_area <ia <= upper_area:\n",
    "        rels.append(\"overlaps\") \n",
    "    if ia >= upper_area:\n",
    "        special = {\"Iowa\", \"Missouri\", \"Arkansas\", \"West Virginia\"}\n",
    "        if state['name'] in special:\n",
    "            if(direction == \"state\"):\n",
    "                rels.append(\"within\")\n",
    "            else:   \n",
    "                rels.append(\"contains\")\n",
    "        elif state['name'] == \"Alaska\":\n",
    "            if(direction == \"zone\"):\n",
    "                rels.append(\"within\")\n",
    "            else:   \n",
    "                rels.append(\"contains\")\n",
    "        else:\n",
    "            if(direction == \"state\"):\n",
    "                rels.append(\"covered by\")\n",
    "            else:   \n",
    "                rels.append(\"covers\")\n",
    "    \n",
    "    return sorted(set(rels))"
   ]
  },
  {
   "cell_type": "code",
   "execution_count": 7,
   "id": "c65984bf",
   "metadata": {},
   "outputs": [
    {
     "data": {
      "text/plain": [
       "['touch']"
      ]
     },
     "execution_count": 7,
     "metadata": {},
     "output_type": "execute_result"
    }
   ],
   "source": [
    "# example usage\n",
    "state_row = states_df[states_df['name'] == \"Utah\"].iloc[0]\n",
    "time_zone_row = time_zones_df[time_zones_df['zone'] == \"Pacific\"].iloc[0]\n",
    "calc_topology(state_row, time_zone_row, \"state\")"
   ]
  },
  {
   "cell_type": "code",
   "execution_count": 8,
   "id": "752a79f8",
   "metadata": {},
   "outputs": [],
   "source": [
    "import math\n",
    "\n",
    "def calculate_bearing(lat1, lon1, lat2, lon2):\n",
    "    # Convert degrees to radians\n",
    "    lat1, lat2 = math.radians(lat1), math.radians(lat2)\n",
    "    d_lon = math.radians(lon2 - lon1)\n",
    "\n",
    "    x = math.sin(d_lon) * math.cos(lat2)\n",
    "    y = math.cos(lat1) * math.sin(lat2) - \\\n",
    "        math.sin(lat1) * math.cos(lat2) * math.cos(d_lon)\n",
    "\n",
    "    bearing_rad = math.atan2(x, y)\n",
    "    bearing_deg = (math.degrees(bearing_rad) + 360) % 360\n",
    "    return bearing_deg\n",
    "\n",
    "def bearing_to_direction(bearing):\n",
    "    \"\"\"\n",
    "    Convert bearing in degrees to 8-point compass direction.\n",
    "    \"\"\"\n",
    "    directions = [\n",
    "        'North', 'Northeast', 'East', 'Southeast',\n",
    "        'South', 'Southwest', 'West', 'Northwest'\n",
    "    ]\n",
    "    idx = int(((bearing + 22.5) % 360) / 45)\n",
    "    left_idx = (idx - 1) % len(directions)\n",
    "    right_idx = (idx + 1) % len(directions)\n",
    "\n",
    "    return [directions[left_idx], directions[idx], directions[right_idx]]\n",
    "\n",
    "# input: row containing park1 and park2 names\n",
    "# output: direction from park1 to park2\n",
    "def deprecated_direction(parks_df,row):\n",
    "    lat1 = parks_df.loc[parks_df['name'] == row['park1'], 'latitude'].iat[0]\n",
    "    lon1 = parks_df.loc[parks_df['name'] == row['park1'], 'longitude'].iat[0]\n",
    "    lat2 = parks_df.loc[parks_df['name'] == row['park2'], 'latitude'].iat[0]\n",
    "    lon2 = parks_df.loc[parks_df['name'] == row['park2'], 'longitude'].iat[0]\n",
    "    bearing = calculate_bearing(lat1, lon1, lat2, lon2)\n",
    "    return bearing_to_direction(bearing)\n"
   ]
  },
  {
   "cell_type": "code",
   "execution_count": 9,
   "id": "fb144dd6",
   "metadata": {},
   "outputs": [],
   "source": [
    "# The 8 compass points (exactly matching title-cased strings)\n",
    "directions = [\n",
    "    'North', 'Northeast', 'East', 'Southeast',\n",
    "    'South', 'Southwest', 'West', 'Northwest'\n",
    "]\n",
    "\n",
    "def get_direction_from_coords(lat1, lon1, lat2, lon2):\n",
    "    \"\"\"\n",
    "    Compare latitudes/longitudes to pick one of the 8 compass points.\n",
    "    Returns one of: 'North', 'Northeast', 'East', 'Southeast', \n",
    "    'South', 'Southwest', 'West', 'Northwest', or 'Same location'.\n",
    "    \"\"\"\n",
    "    d_lat = lat2 - lat1\n",
    "    d_lon = lon2 - lon1\n",
    "\n",
    "    # Vertical component\n",
    "    if d_lat > 0:\n",
    "        vert = 'North'\n",
    "    elif d_lat < 0:\n",
    "        vert = 'South'\n",
    "    else:\n",
    "        vert = ''\n",
    "\n",
    "    # Horizontal component\n",
    "    if d_lon > 0:\n",
    "        horiz = 'East'\n",
    "    elif d_lon < 0:\n",
    "        horiz = 'West'\n",
    "    else:\n",
    "        horiz = ''\n",
    "\n",
    "    # Combine (and title-case so that e.g. \"North\" + \"East\" becomes \"Northeast\")\n",
    "    if vert and horiz:\n",
    "        return (vert + horiz).title()\n",
    "    elif vert:\n",
    "        return vert\n",
    "    elif horiz:\n",
    "        return horiz\n",
    "    else:\n",
    "        return 'Same location'\n",
    "\n",
    "def direction_with_neighbors(direction):\n",
    "    \"\"\"\n",
    "    Given one of the 8 compass strings, return [left_neighbor, direction, right_neighbor].\n",
    "    If direction == 'Same location', return ['Same location'].\n",
    "    \"\"\"\n",
    "    if direction == 'Same location':\n",
    "        return [direction]\n",
    "\n",
    "    idx = directions.index(direction)\n",
    "    left_idx = (idx - 1) % len(directions)\n",
    "    right_idx = (idx + 1) % len(directions)\n",
    "    return [directions[left_idx], directions[idx], directions[right_idx]]\n",
    "\n",
    "def calc_direction(parks_df, row):\n",
    "    \"\"\"\n",
    "    Look up lat/lon for row['park1'] and row['park2']. If a name isn't found, raise ValueError.\n",
    "    Otherwise, return [left_neighbor, direction, right_neighbor].\n",
    "    \"\"\"\n",
    "    # Lookup for park1\n",
    "    subset1 = parks_df.loc[parks_df['name'] == row['park1'], ['latitude', 'longitude']]\n",
    "    if subset1.empty:\n",
    "        raise ValueError(f\"Park not found: '{row['park1']}'\")\n",
    "    lat1 = subset1['latitude'].iat[0]\n",
    "    lon1 = subset1['longitude'].iat[0]\n",
    "\n",
    "    # Lookup for park2\n",
    "    subset2 = parks_df.loc[parks_df['name'] == row['park2'], ['latitude', 'longitude']]\n",
    "    if subset2.empty:\n",
    "        raise ValueError(f\"Park not found: '{row['park2']}'\")\n",
    "    lat2 = subset2['latitude'].iat[0]\n",
    "    lon2 = subset2['longitude'].iat[0]\n",
    "\n",
    "    base_dir = get_direction_from_coords(lat1, lon1, lat2, lon2)\n",
    "    return direction_with_neighbors(base_dir)\n"
   ]
  },
  {
   "cell_type": "code",
   "execution_count": 10,
   "id": "cf042537",
   "metadata": {},
   "outputs": [
    {
     "data": {
      "text/plain": [
       "['East', 'Southeast', 'South']"
      ]
     },
     "execution_count": 10,
     "metadata": {},
     "output_type": "execute_result"
    }
   ],
   "source": [
    "calc_direction(parks_df, {'park1': 'Indiana Dunes National Park', 'park2': 'Mammoth Cave National Park'})"
   ]
  },
  {
   "cell_type": "code",
   "execution_count": 11,
   "id": "444dc765",
   "metadata": {},
   "outputs": [],
   "source": [
    "# calculate distance given lats and longs of two parks\n",
    "def calc_park_to_park_distance(lat1, lon1, lat2, lon2):\n",
    "    R = 6371.0  # Radius of Earth in kilometers\n",
    "\n",
    "    # Convert degrees to radians\n",
    "    lat1_rad = math.radians(lat1)\n",
    "    lon1_rad = math.radians(lon1)\n",
    "    lat2_rad = math.radians(lat2)\n",
    "    lon2_rad = math.radians(lon2)\n",
    "\n",
    "    # Differences\n",
    "    dlat = lat2_rad - lat1_rad\n",
    "    dlon = lon2_rad - lon1_rad\n",
    "\n",
    "    # Haversine formula\n",
    "    a = math.sin(dlat / 2)**2 + math.cos(lat1_rad) * math.cos(lat2_rad) * math.sin(dlon / 2)**2\n",
    "    c = 2 * math.atan2(math.sqrt(a), math.sqrt(1 - a))\n",
    "\n",
    "    distance = R * c\n",
    "    return distance"
   ]
  },
  {
   "cell_type": "code",
   "execution_count": 12,
   "id": "f1a8b3ae",
   "metadata": {},
   "outputs": [
    {
     "data": {
      "text/plain": [
       "171.80754378470672"
      ]
     },
     "execution_count": 12,
     "metadata": {},
     "output_type": "execute_result"
    }
   ],
   "source": [
    "# example usage\n",
    "park1_lat = parks_df.loc[parks_df['name'] == 'Yosemite National Park', 'latitude'].iat[0]\n",
    "park1_lon = parks_df.loc[parks_df['name'] == 'Yosemite National Park', 'longitude'].iat[0]\n",
    "park2_lat = parks_df.loc[parks_df['name'] == 'Sequoia National Park', 'latitude'].iat[0]\n",
    "park2_lon = parks_df.loc[parks_df['name'] == 'Sequoia National Park', 'longitude'].iat[0]\n",
    "\n",
    "calc_park_to_park_distance(park1_lat, park1_lon, park2_lat, park2_lon)"
   ]
  },
  {
   "cell_type": "code",
   "execution_count": 13,
   "id": "6770ca82",
   "metadata": {},
   "outputs": [],
   "source": [
    "import shapely.ops as ops\n",
    "\n",
    "# calculate distance from park to state boundary\n",
    "def calc_park_to_state_distance(park_name,parks_gdf, state_name, states_gdf) -> float:\n",
    "    # Select park geometry\n",
    "    park_row = parks_gdf[parks_gdf['name'] == park_name]\n",
    "    if park_row.empty:\n",
    "        raise ValueError(f\"Park '{park_name}' not found in parks_gdf.\")\n",
    "    park_point = park_row.geometry.iloc[0]\n",
    "\n",
    "    # Select state geometry\n",
    "    state_row = states_gdf[states_gdf['name'] == state_name]\n",
    "    if state_row.empty:\n",
    "        raise ValueError(f\"State '{state_name}' not found in states_gdf.\")\n",
    "    state_poly = state_row.geometry.iloc[0]\n",
    "\n",
    "    # If park is inside state, distance is zero\n",
    "    if state_poly.contains(park_point):\n",
    "        return 0.0\n",
    "\n",
    "    # Find nearest point on state boundary\n",
    "    boundary = state_poly.boundary\n",
    "    nearest_geom = ops.nearest_points(park_point, boundary)[1]\n",
    "\n",
    "    # Compute haversine distance\n",
    "    return calc_park_to_park_distance(\n",
    "        park_point.y, park_point.x,\n",
    "        nearest_geom.y, nearest_geom.x\n",
    "    )"
   ]
  },
  {
   "cell_type": "code",
   "execution_count": 14,
   "id": "d074ae94",
   "metadata": {},
   "outputs": [
    {
     "data": {
      "text/plain": [
       "2808.1730884567332"
      ]
     },
     "execution_count": 14,
     "metadata": {},
     "output_type": "execute_result"
    }
   ],
   "source": [
    "# example usage\n",
    "calc_park_to_state_distance(\n",
    "    'Yosemite National Park', parks_df, 'Alabama', states_df\n",
    ")"
   ]
  },
  {
   "cell_type": "code",
   "execution_count": null,
   "id": "a8c6c695",
   "metadata": {},
   "outputs": [],
   "source": []
  }
 ],
 "metadata": {
  "kernelspec": {
   "display_name": "spatial-benchmark",
   "language": "python",
   "name": "python3"
  },
  "language_info": {
   "codemirror_mode": {
    "name": "ipython",
    "version": 3
   },
   "file_extension": ".py",
   "mimetype": "text/x-python",
   "name": "python",
   "nbconvert_exporter": "python",
   "pygments_lexer": "ipython3",
   "version": "3.11.11"
  }
 },
 "nbformat": 4,
 "nbformat_minor": 5
}
